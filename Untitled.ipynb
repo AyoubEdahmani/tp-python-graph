{
 "cells": [
  {
   "cell_type": "code",
   "execution_count": 106,
   "id": "072a32c9-4249-4a74-b6ca-9f293107d567",
   "metadata": {},
   "outputs": [
    {
     "data": {
      "text/plain": [
       "1"
      ]
     },
     "execution_count": 106,
     "metadata": {},
     "output_type": "execute_result"
    }
   ],
   "source": [
    "import random\n",
    "number_of_nodes =4\n",
    "file=open(\"graph.txt\",\"w\")\n",
    "file.write(str(number_of_nodes))"
   ]
  },
  {
   "cell_type": "code",
   "execution_count": 107,
   "id": "4c3606f4-40b8-44c3-8887-3f63d2a51848",
   "metadata": {},
   "outputs": [],
   "source": [
    "file=open(\"graph.txt\",\"a\")\n",
    "matrix=[]\n",
    "for row in range(number_of_nodes):\n",
    "    row_text=\"\"\n",
    "    row_values=[]\n",
    "    for col in range(number_of_nodes):\n",
    "        if row== col:\n",
    "            row_values.append(0)\n",
    "            row_text+=\"0\\t\"\n",
    "        else:\n",
    "            if col<row :\n",
    "                value=matrix[col][row]\n",
    "            else:\n",
    "                value = random.randint(1, 100) \n",
    "            row_values.append(value)\n",
    "            row_text+=str(value)+\"\\t\"\n",
    "    file.write(\"\\n\"+row_text)\n",
    "    matrix.append(row_values)\n",
    "\n",
    "        \n",
    "file.close()"
   ]
  },
  {
   "cell_type": "code",
   "execution_count": 108,
   "id": "e0f8b55d-9570-4c13-aa37-817ab3a9260b",
   "metadata": {},
   "outputs": [
    {
     "name": "stdout",
     "output_type": "stream",
     "text": [
      "[[0, 45, 81, 65], [45, 0, 98, 54], [81, 98, 0, 1], [65, 54, 1, 0]]\n"
     ]
    }
   ],
   "source": [
    "file=open(\"graph.txt\",\"r\")\n",
    "data_matrix=[]\n",
    "total_nodes=int(file.readline().strip())\n",
    "for i in range(total_nodes):\n",
    "    line_values=file.readline().strip().split(\"\\t\")\n",
    "    data_matrix.append(list(map(int,line_values)))\n",
    "    \n",
    "print(data_matrix)\n"
   ]
  },
  {
   "cell_type": "code",
   "execution_count": 109,
   "id": "8ae2bf52-0397-474b-ac47-4d7d4b969e38",
   "metadata": {},
   "outputs": [
    {
     "name": "stdout",
     "output_type": "stream",
     "text": [
      "[(0, 1), (1, 3), (3, 2)]\n",
      "Coût : 100\n"
     ]
    }
   ],
   "source": [
    "start_node=random.randint(0,total_nodes-1)\n",
    "visited_nodes=[start_node]\n",
    "minimum_spanning_tree=[]\n",
    "processed_matrix=[]\n",
    "total_cost=0\n",
    "num_selected_nodes=1\n",
    "for i in range(number_of_nodes):\n",
    "    row=[0]*number_of_nodes\n",
    "    minimum_spanning_tree.append(row)\n",
    "while num_selected_nodes<total_nodes  :\n",
    "    min_value=float('inf')\n",
    "    index=start_node\n",
    "    for node in visited_nodes:\n",
    "        for key,value in [(y,x) for y,x in enumerate(data_matrix[node]) if x !=0 and x != minimum_spanning_tree[node][y] ]:\n",
    "            if value<min_value  :\n",
    "                min_value=value\n",
    "                index =key\n",
    "                if node!=index:\n",
    "                    minimum_spanning_tree[node][index]=min_value\n",
    "                    minimum_spanning_tree[index][node]=min_value\n",
    "    if index != node:\n",
    "        if index not in visited_nodes :\n",
    "            num_selected_nodes+=1\n",
    "        processed_matrix.append((node,index))\n",
    "        visited_nodes.append(index)\n",
    "        total_cost+=min_value\n",
    "print(processed_matrix)                      \n",
    "print(\"Coût : \" + str(total_cost))\n"
   ]
  },
  {
   "cell_type": "code",
   "execution_count": null,
   "id": "f53ff821",
   "metadata": {},
   "outputs": [],
   "source": []
  }
 ],
 "metadata": {
  "kernelspec": {
   "display_name": "base",
   "language": "python",
   "name": "python3"
  },
  "language_info": {
   "codemirror_mode": {
    "name": "ipython",
    "version": 3
   },
   "file_extension": ".py",
   "mimetype": "text/x-python",
   "name": "python",
   "nbconvert_exporter": "python",
   "pygments_lexer": "ipython3",
   "version": "3.12.7"
  }
 },
 "nbformat": 4,
 "nbformat_minor": 5
}
