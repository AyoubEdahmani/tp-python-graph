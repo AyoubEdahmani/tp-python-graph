{
 "cells": [
  {
   "cell_type": "code",
   "execution_count": 2,
   "id": "072a32c9-4249-4a74-b6ca-9f293107d567",
   "metadata": {},
   "outputs": [
    {
     "data": {
      "text/plain": [
       "1"
      ]
     },
     "execution_count": 2,
     "metadata": {},
     "output_type": "execute_result"
    }
   ],
   "source": [
    "import random\n",
    "n=6\n",
    "file=open(\"graph.txt\",\"w\")\n",
    "file.write(str(n))"
   ]
  },
  {
   "cell_type": "code",
   "execution_count": 3,
   "id": "4c3606f4-40b8-44c3-8887-3f63d2a51848",
   "metadata": {},
   "outputs": [],
   "source": [
    "file=open(\"graph.txt\",\"a\")\n",
    "initdata=[]\n",
    "for i in range(n):\n",
    "    text=\"\"\n",
    "    initdata2=[]\n",
    "    for j in range(n):\n",
    "        if i== j:\n",
    "            initdata2.append(0)\n",
    "            text+=\"0\\t\"\n",
    "        else:\n",
    "            if j<i :\n",
    "                num=initdata[j][i]\n",
    "            else:\n",
    "                num = random.randint(1, 100) \n",
    "            initdata2.append(num)\n",
    "            text+=str(num)+\"\\t\"\n",
    "    file.write(\"\\n\"+text)\n",
    "    initdata.append(initdata2)\n",
    "\n",
    "        \n",
    "file.close()"
   ]
  },
  {
   "cell_type": "code",
   "execution_count": 4,
   "id": "e0f8b55d-9570-4c13-aa37-817ab3a9260b",
   "metadata": {},
   "outputs": [
    {
     "name": "stdout",
     "output_type": "stream",
     "text": [
      "[[0, 26, 60, 77, 30, 65], [26, 0, 27, 41, 99, 71], [60, 27, 0, 19, 78, 56], [77, 41, 19, 0, 66, 24], [30, 99, 78, 66, 0, 40], [65, 71, 56, 24, 40, 0]]\n"
     ]
    }
   ],
   "source": [
    "file=open(\"graph.txt\",\"r\")\n",
    "data=[]\n",
    "number=int(file.readline().strip())\n",
    "for i in range(number):\n",
    "    line=file.readline().strip().split(\"\\t\")\n",
    "    data.append(list(map(int,line)))\n",
    "    \n",
    "print(data)\n"
   ]
  },
  {
   "cell_type": "code",
   "execution_count": 5,
   "id": "8ae2bf52-0397-474b-ac47-4d7d4b969e38",
   "metadata": {},
   "outputs": [
    {
     "name": "stdout",
     "output_type": "stream",
     "text": [
      "[0, 1, 2, 3, 5, 4]\n"
     ]
    }
   ],
   "source": [
    "local=random.randint(0,number-1)\n",
    "listDeja=[]\n",
    "dataFilter=[]\n",
    "for i in range(n):\n",
    "    row=[]\n",
    "    for j in range(n):\n",
    "        row.append(0)\n",
    "    dataFilter.append(row)\n",
    "while len(listDeja)<number :\n",
    "    minValue=float('inf')\n",
    "    index=local\n",
    "    for i in listDeja:\n",
    "        for line in [x for x in data[i] if x !=0 and x not in dataFilter[i] ]:\n",
    "            if line<minValue  :\n",
    "                minValue=line\n",
    "                index =data[i].index(line) \n",
    "                dataFilter[i][index]=minValue\n",
    "                dataFilter[index][i]=minValue\n",
    "    listDeja.append(index)\n",
    "print(listDeja)           \n",
    "        \n",
    "    \n"
   ]
  },
  {
   "cell_type": "code",
   "execution_count": null,
   "id": "f53ff821",
   "metadata": {},
   "outputs": [],
   "source": []
  }
 ],
 "metadata": {
  "kernelspec": {
   "display_name": "base",
   "language": "python",
   "name": "python3"
  },
  "language_info": {
   "codemirror_mode": {
    "name": "ipython",
    "version": 3
   },
   "file_extension": ".py",
   "mimetype": "text/x-python",
   "name": "python",
   "nbconvert_exporter": "python",
   "pygments_lexer": "ipython3",
   "version": "3.12.7"
  }
 },
 "nbformat": 4,
 "nbformat_minor": 5
}
