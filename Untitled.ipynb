{
 "cells": [
  {
   "cell_type": "code",
   "execution_count": 13,
   "id": "072a32c9-4249-4a74-b6ca-9f293107d567",
   "metadata": {},
   "outputs": [
    {
     "data": {
      "text/plain": [
       "1"
      ]
     },
     "execution_count": 13,
     "metadata": {},
     "output_type": "execute_result"
    }
   ],
   "source": [
    "import random\n",
    "n=6\n",
    "file=open(\"graph.txt\",\"w\")\n",
    "file.write(str(n))"
   ]
  },
  {
   "cell_type": "code",
   "execution_count": 14,
   "id": "4c3606f4-40b8-44c3-8887-3f63d2a51848",
   "metadata": {},
   "outputs": [],
   "source": [
    "file=open(\"graph.txt\",\"a\")\n",
    "initdata=[]\n",
    "for i in range(n):\n",
    "    text=\"\"\n",
    "    initdata2=[]\n",
    "    for j in range(n):\n",
    "        if i== j:\n",
    "            initdata2.append(0)\n",
    "            text+=\"0\\t\"\n",
    "        else:\n",
    "            if j<i :\n",
    "                num=initdata[j][i]\n",
    "            else:\n",
    "                num = random.randint(1, 100) \n",
    "            initdata2.append(num)\n",
    "            text+=str(num)+\"\\t\"\n",
    "    file.write(\"\\n\"+text)\n",
    "    initdata.append(initdata2)\n",
    "\n",
    "        \n",
    "file.close()"
   ]
  },
  {
   "cell_type": "code",
   "execution_count": 15,
   "id": "e0f8b55d-9570-4c13-aa37-817ab3a9260b",
   "metadata": {},
   "outputs": [
    {
     "name": "stdout",
     "output_type": "stream",
     "text": [
      "[[0, 19, 14, 82, 37, 10], [19, 0, 29, 71, 34, 89], [14, 29, 0, 8, 81, 35], [82, 71, 8, 0, 40, 88], [37, 34, 81, 40, 0, 34], [10, 89, 35, 88, 34, 0]]\n"
     ]
    }
   ],
   "source": [
    "file=open(\"graph.txt\",\"r\")\n",
    "data=[]\n",
    "number=int(file.readline().strip())\n",
    "for i in range(number):\n",
    "    line=file.readline().strip().split(\"\\t\")\n",
    "    data.append(list(map(int,line)))\n",
    "    \n",
    "print(data)\n"
   ]
  },
  {
   "cell_type": "code",
   "execution_count": 16,
   "id": "8ae2bf52-0397-474b-ac47-4d7d4b969e38",
   "metadata": {},
   "outputs": [
    {
     "name": "stdout",
     "output_type": "stream",
     "text": [
      "[(5, 0), (0, 2), (2, 3), (3, 4), (4, 1)]\n",
      "cout :106\n"
     ]
    }
   ],
   "source": [
    "local=random.randint(0,number-1)\n",
    "listDeja=[local]\n",
    "dataFilter=[]\n",
    "dataFilter2=[]\n",
    "cout=0\n",
    "numEle=1\n",
    "for i in range(n):\n",
    "    row=[0]*n\n",
    "    dataFilter.append(row)\n",
    "while numEle<number  :\n",
    "    minValue=float('inf')\n",
    "    index=local\n",
    "    for i in listDeja:\n",
    "        for key,line in [(y,x) for y,x in enumerate(data[i]) if x !=0 and x != dataFilter[i][y] ]:\n",
    "            if line<minValue  :\n",
    "                minValue=line\n",
    "                index =key\n",
    "                if i!=index:\n",
    "                    dataFilter[i][index]=minValue\n",
    "                    dataFilter[index][i]=minValue\n",
    "    if index != i:\n",
    "        if index not in listDeja :\n",
    "            numEle+=1\n",
    "        dataFilter2.append((i,index))\n",
    "        listDeja.append(index)\n",
    "        cout+=minValue\n",
    "print(dataFilter2)                      \n",
    "print(\"cout :\"+ str(cout))           \n"
   ]
  },
  {
   "cell_type": "code",
   "execution_count": null,
   "id": "f53ff821",
   "metadata": {},
   "outputs": [],
   "source": []
  }
 ],
 "metadata": {
  "kernelspec": {
   "display_name": "base",
   "language": "python",
   "name": "python3"
  },
  "language_info": {
   "codemirror_mode": {
    "name": "ipython",
    "version": 3
   },
   "file_extension": ".py",
   "mimetype": "text/x-python",
   "name": "python",
   "nbconvert_exporter": "python",
   "pygments_lexer": "ipython3",
   "version": "3.12.7"
  }
 },
 "nbformat": 4,
 "nbformat_minor": 5
}
