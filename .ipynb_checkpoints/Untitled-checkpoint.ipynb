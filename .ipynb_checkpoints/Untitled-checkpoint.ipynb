{
 "cells": [
  {
   "cell_type": "code",
   "execution_count": 40,
   "id": "072a32c9-4249-4a74-b6ca-9f293107d567",
   "metadata": {},
   "outputs": [
    {
     "data": {
      "text/plain": [
       "1"
      ]
     },
     "execution_count": 40,
     "metadata": {},
     "output_type": "execute_result"
    }
   ],
   "source": [
    "import random\n",
    "n=4\n",
    "file=open(\"graph.txt\",\"w\")\n",
    "file.write(str(n))"
   ]
  },
  {
   "cell_type": "code",
   "execution_count": 42,
   "id": "4c3606f4-40b8-44c3-8887-3f63d2a51848",
   "metadata": {},
   "outputs": [],
   "source": [
    "file=open(\"graph.txt\",\"a\")\n",
    "for i in range(n):\n",
    "    text=\"\"\n",
    "    for j in range(n):\n",
    "        if i== j:\n",
    "            text+=\"0\\t\"\n",
    "        else:\n",
    "            random_number = random.randint(1, 100)  \n",
    "            text+=str(random_number)+\"\\t\"\n",
    "    file.write(\"\\n\"+text)\n",
    "\n",
    "        \n",
    "file.close()"
   ]
  },
  {
   "cell_type": "code",
   "execution_count": 56,
   "id": "e0f8b55d-9570-4c13-aa37-817ab3a9260b",
   "metadata": {},
   "outputs": [
    {
     "name": "stdout",
     "output_type": "stream",
     "text": [
      "[['0', '70', '39', '76'], ['75', '0', '13', '18'], ['13', '87', '0', '88'], ['58', '56', '19', '0']]\n"
     ]
    }
   ],
   "source": [
    "file=open(\"graph.txt\",\"r\")\n",
    "data=[]\n",
    "number=int(file.readline().strip())\n",
    "for i in range(number):\n",
    "    line=file.readline().strip().split(\"\\t\")\n",
    "    data.append(line)\n",
    "print(data)\n"
   ]
  },
  {
   "cell_type": "code",
   "execution_count": null,
   "id": "8ae2bf52-0397-474b-ac47-4d7d4b969e38",
   "metadata": {},
   "outputs": [],
   "source": []
  }
 ],
 "metadata": {
  "kernelspec": {
   "display_name": "Python [conda env:base] *",
   "language": "python",
   "name": "conda-base-py"
  },
  "language_info": {
   "codemirror_mode": {
    "name": "ipython",
    "version": 3
   },
   "file_extension": ".py",
   "mimetype": "text/x-python",
   "name": "python",
   "nbconvert_exporter": "python",
   "pygments_lexer": "ipython3",
   "version": "3.12.7"
  }
 },
 "nbformat": 4,
 "nbformat_minor": 5
}
